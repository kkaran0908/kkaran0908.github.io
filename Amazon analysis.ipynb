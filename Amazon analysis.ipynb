{
 "cells": [
  {
   "cell_type": "markdown",
   "metadata": {
    "colab_type": "text",
    "id": "cyXEgMWtMQvM"
   },
   "source": [
    "# [1] Amazon Fine Food Reviews Analysis\n",
    "\n",
    "\n",
    "Data Source: https://www.kaggle.com/snap/amazon-fine-food-reviews\n",
    "\n",
    "The Amazon Fine Food Reviews dataset consists of reviews of fine foods from Amazon.<br>\n",
    "\n",
    "Number of reviews: 568,454<br>\n",
    "Number of users: 256,059<br>\n",
    "Number of products: 74,258<br>\n",
    "Timespan: Oct 1999 - Oct 2012<br>\n",
    "Number of Attributes/Columns in data: 10 \n",
    "\n",
    "Attribute Information:\n",
    "\n",
    "1. Id\n",
    "2. ProductId - unique identifier for the product\n",
    "3. UserId - unqiue identifier for the user\n",
    "4. ProfileName\n",
    "5. HelpfulnessNumerator - number of users who found the review helpful\n",
    "6. HelpfulnessDenominator - number of users who indicated whether they found the review helpful or not\n",
    "7. Score - rating between 1 and 5\n",
    "8. Time - timestamp for the review\n",
    "9. Summary - brief summary of the review\n",
    "10. Text - text of the review\n",
    "\n",
    "\n",
    "#### Objective:\n",
    "Given a review, determine whether the review is positive (Rating of 4 or 5) or negative (rating of 1 or 2).\n",
    "\n",
    "<br>\n",
    "[Q] How to determine if a review is positive or negative?<br>\n",
    "<br> \n",
    "[Ans] We could use the Score/Rating. A rating of 4 or 5 could be cosnidered a positive review. A review of 1 or 2 could be considered negative. A review of 3 is nuetral and ignored. This is an approximate and proxy way of determining the polarity (positivity/negativity) of a review.\n",
    "\n",
    "\n"
   ]
  },
  {
   "cell_type": "markdown",
   "metadata": {
    "colab_type": "text",
    "id": "nTN9VK62MQvN"
   },
   "source": [
    "## [7.1] Loading the data\n",
    "\n",
    "The dataset is available in two forms\n",
    "1. .csv file\n",
    "2. SQLite Database\n",
    "\n",
    "In order to load the data, We have used the SQLITE dataset as it easier to query the data and visualise the data efficiently.\n",
    "<br> \n",
    "\n",
    "Here as we only want to get the global sentiment of the recommendations (positive or negative), we will purposefully ignore all Scores equal to 3. If the score id above 3, then the recommendation wil be set to \"positive\". Otherwise, it will be set to \"negative\"."
   ]
  },
  {
   "cell_type": "code",
   "execution_count": 1,
   "metadata": {
    "colab": {},
    "colab_type": "code",
    "collapsed": true,
    "id": "vXnuoQYEMQvO"
   },
   "outputs": [],
   "source": [
    "%matplotlib inline\n",
    "import warnings\n",
    "warnings.filterwarnings(\"ignore\")\n",
    "\n",
    "import sqlite3\n",
    "import pandas as pd\n",
    "import numpy as np\n",
    "import nltk\n",
    "import string\n",
    "import matplotlib.pyplot as plt\n",
    "import seaborn as sns\n",
    "from sklearn.feature_extraction.text import TfidfTransformer\n",
    "from sklearn.feature_extraction.text import TfidfVectorizer\n",
    "\n",
    "from sklearn.feature_extraction.text import CountVectorizer\n",
    "from sklearn.metrics import confusion_matrix\n",
    "from sklearn import metrics\n",
    "from sklearn.metrics import roc_curve, auc\n",
    "from nltk.stem.porter import PorterStemmer\n",
    "\n",
    "import re\n",
    "# Tutorial about Python regular expressions: https://pymotw.com/2/re/\n",
    "import string\n",
    "from nltk.corpus import stopwords\n",
    "from nltk.stem import PorterStemmer\n",
    "from nltk.stem.wordnet import WordNetLemmatizer\n",
    "\n",
    "from gensim.models import Word2Vec\n",
    "from gensim.models import KeyedVectors\n",
    "import pickle\n",
    "\n",
    "from tqdm import tqdm\n",
    "import os"
   ]
  },
  {
   "cell_type": "code",
   "execution_count": 30,
   "metadata": {
    "colab": {},
    "colab_type": "code",
    "id": "-lrJx9N9MQvT"
   },
   "outputs": [
    {
     "name": "stdout",
     "output_type": "stream",
     "text": [
      "Number of data points in our data (60000, 10)\n"
     ]
    },
    {
     "data": {
      "text/html": [
       "<div>\n",
       "<style scoped>\n",
       "    .dataframe tbody tr th:only-of-type {\n",
       "        vertical-align: middle;\n",
       "    }\n",
       "\n",
       "    .dataframe tbody tr th {\n",
       "        vertical-align: top;\n",
       "    }\n",
       "\n",
       "    .dataframe thead th {\n",
       "        text-align: right;\n",
       "    }\n",
       "</style>\n",
       "<table border=\"1\" class=\"dataframe\">\n",
       "  <thead>\n",
       "    <tr style=\"text-align: right;\">\n",
       "      <th></th>\n",
       "      <th>Id</th>\n",
       "      <th>ProductId</th>\n",
       "      <th>UserId</th>\n",
       "      <th>ProfileName</th>\n",
       "      <th>HelpfulnessNumerator</th>\n",
       "      <th>HelpfulnessDenominator</th>\n",
       "      <th>Score</th>\n",
       "      <th>Time</th>\n",
       "      <th>Summary</th>\n",
       "      <th>Text</th>\n",
       "    </tr>\n",
       "  </thead>\n",
       "  <tbody>\n",
       "    <tr>\n",
       "      <th>0</th>\n",
       "      <td>1</td>\n",
       "      <td>B001E4KFG0</td>\n",
       "      <td>A3SGXH7AUHU8GW</td>\n",
       "      <td>delmartian</td>\n",
       "      <td>1</td>\n",
       "      <td>1</td>\n",
       "      <td>1</td>\n",
       "      <td>1303862400</td>\n",
       "      <td>Good Quality Dog Food</td>\n",
       "      <td>I have bought several of the Vitality canned d...</td>\n",
       "    </tr>\n",
       "    <tr>\n",
       "      <th>1</th>\n",
       "      <td>2</td>\n",
       "      <td>B00813GRG4</td>\n",
       "      <td>A1D87F6ZCVE5NK</td>\n",
       "      <td>dll pa</td>\n",
       "      <td>0</td>\n",
       "      <td>0</td>\n",
       "      <td>0</td>\n",
       "      <td>1346976000</td>\n",
       "      <td>Not as Advertised</td>\n",
       "      <td>Product arrived labeled as Jumbo Salted Peanut...</td>\n",
       "    </tr>\n",
       "    <tr>\n",
       "      <th>2</th>\n",
       "      <td>3</td>\n",
       "      <td>B000LQOCH0</td>\n",
       "      <td>ABXLMWJIXXAIN</td>\n",
       "      <td>Natalia Corres \"Natalia Corres\"</td>\n",
       "      <td>1</td>\n",
       "      <td>1</td>\n",
       "      <td>1</td>\n",
       "      <td>1219017600</td>\n",
       "      <td>\"Delight\" says it all</td>\n",
       "      <td>This is a confection that has been around a fe...</td>\n",
       "    </tr>\n",
       "  </tbody>\n",
       "</table>\n",
       "</div>"
      ],
      "text/plain": [
       "   Id   ProductId          UserId                      ProfileName  \\\n",
       "0   1  B001E4KFG0  A3SGXH7AUHU8GW                       delmartian   \n",
       "1   2  B00813GRG4  A1D87F6ZCVE5NK                           dll pa   \n",
       "2   3  B000LQOCH0   ABXLMWJIXXAIN  Natalia Corres \"Natalia Corres\"   \n",
       "\n",
       "   HelpfulnessNumerator  HelpfulnessDenominator  Score        Time  \\\n",
       "0                     1                       1      1  1303862400   \n",
       "1                     0                       0      0  1346976000   \n",
       "2                     1                       1      1  1219017600   \n",
       "\n",
       "                 Summary                                               Text  \n",
       "0  Good Quality Dog Food  I have bought several of the Vitality canned d...  \n",
       "1      Not as Advertised  Product arrived labeled as Jumbo Salted Peanut...  \n",
       "2  \"Delight\" says it all  This is a confection that has been around a fe...  "
      ]
     },
     "execution_count": 30,
     "metadata": {},
     "output_type": "execute_result"
    }
   ],
   "source": [
    "\n",
    "# using the SQLite Table to read data.\n",
    "con = sqlite3.connect('database.sqlite') \n",
    "#filtering only positive and negative reviews i.e. \n",
    "# not taking into consideration those reviews with Score=3\n",
    "filtered_data = pd.read_sql_query(\"\"\" SELECT * FROM Reviews WHERE Score != 3 LIMIT 60000 \"\"\", con) \n",
    "\n",
    "\n",
    "# Give reviews with Score>3 a positive rating, and reviews with a score<3 a negative rating.\n",
    "def partition(x):\n",
    "    if x < 3:\n",
    "        return 0\n",
    "    return 1\n",
    "\n",
    "#changing reviews with score less than 3 to be positive and vice-versa\n",
    "actualScore = filtered_data['Score']\n",
    "positiveNegative = actualScore.map(partition) \n",
    "filtered_data['Score'] = positiveNegative\n",
    "print(\"Number of data points in our data\", filtered_data.shape)\n",
    "filtered_data.head(3)"
   ]
  },
  {
   "cell_type": "markdown",
   "metadata": {
    "colab_type": "text",
    "id": "CF7NMcGnMQvX"
   },
   "source": [
    "#  Exploratory Data Analysis\n",
    "\n",
    "## [7.1.2] Data Cleaning: Deduplication\n",
    "\n",
    "It is observed (as shown in the table below) that the reviews data had many duplicate entries. Hence it was necessary to remove duplicates in order to get unbiased results for the analysis of the data.  Following is an example:"
   ]
  },
  {
   "cell_type": "code",
   "execution_count": 31,
   "metadata": {
    "colab": {},
    "colab_type": "code",
    "id": "_G5KBj5FMQvY",
    "scrolled": false
   },
   "outputs": [
    {
     "data": {
      "text/html": [
       "<div>\n",
       "<style scoped>\n",
       "    .dataframe tbody tr th:only-of-type {\n",
       "        vertical-align: middle;\n",
       "    }\n",
       "\n",
       "    .dataframe tbody tr th {\n",
       "        vertical-align: top;\n",
       "    }\n",
       "\n",
       "    .dataframe thead th {\n",
       "        text-align: right;\n",
       "    }\n",
       "</style>\n",
       "<table border=\"1\" class=\"dataframe\">\n",
       "  <thead>\n",
       "    <tr style=\"text-align: right;\">\n",
       "      <th></th>\n",
       "      <th>Id</th>\n",
       "      <th>ProductId</th>\n",
       "      <th>UserId</th>\n",
       "      <th>ProfileName</th>\n",
       "      <th>HelpfulnessNumerator</th>\n",
       "      <th>HelpfulnessDenominator</th>\n",
       "      <th>Score</th>\n",
       "      <th>Time</th>\n",
       "      <th>Summary</th>\n",
       "      <th>Text</th>\n",
       "    </tr>\n",
       "  </thead>\n",
       "  <tbody>\n",
       "    <tr>\n",
       "      <th>0</th>\n",
       "      <td>78445</td>\n",
       "      <td>B000HDL1RQ</td>\n",
       "      <td>AR5J8UI46CURR</td>\n",
       "      <td>Geetha Krishnan</td>\n",
       "      <td>2</td>\n",
       "      <td>2</td>\n",
       "      <td>5</td>\n",
       "      <td>1199577600</td>\n",
       "      <td>LOACKER QUADRATINI VANILLA WAFERS</td>\n",
       "      <td>DELICIOUS WAFERS. I FIND THAT EUROPEAN WAFERS ...</td>\n",
       "    </tr>\n",
       "    <tr>\n",
       "      <th>1</th>\n",
       "      <td>138317</td>\n",
       "      <td>B000HDOPYC</td>\n",
       "      <td>AR5J8UI46CURR</td>\n",
       "      <td>Geetha Krishnan</td>\n",
       "      <td>2</td>\n",
       "      <td>2</td>\n",
       "      <td>5</td>\n",
       "      <td>1199577600</td>\n",
       "      <td>LOACKER QUADRATINI VANILLA WAFERS</td>\n",
       "      <td>DELICIOUS WAFERS. I FIND THAT EUROPEAN WAFERS ...</td>\n",
       "    </tr>\n",
       "    <tr>\n",
       "      <th>2</th>\n",
       "      <td>138277</td>\n",
       "      <td>B000HDOPYM</td>\n",
       "      <td>AR5J8UI46CURR</td>\n",
       "      <td>Geetha Krishnan</td>\n",
       "      <td>2</td>\n",
       "      <td>2</td>\n",
       "      <td>5</td>\n",
       "      <td>1199577600</td>\n",
       "      <td>LOACKER QUADRATINI VANILLA WAFERS</td>\n",
       "      <td>DELICIOUS WAFERS. I FIND THAT EUROPEAN WAFERS ...</td>\n",
       "    </tr>\n",
       "    <tr>\n",
       "      <th>3</th>\n",
       "      <td>73791</td>\n",
       "      <td>B000HDOPZG</td>\n",
       "      <td>AR5J8UI46CURR</td>\n",
       "      <td>Geetha Krishnan</td>\n",
       "      <td>2</td>\n",
       "      <td>2</td>\n",
       "      <td>5</td>\n",
       "      <td>1199577600</td>\n",
       "      <td>LOACKER QUADRATINI VANILLA WAFERS</td>\n",
       "      <td>DELICIOUS WAFERS. I FIND THAT EUROPEAN WAFERS ...</td>\n",
       "    </tr>\n",
       "    <tr>\n",
       "      <th>4</th>\n",
       "      <td>155049</td>\n",
       "      <td>B000PAQ75C</td>\n",
       "      <td>AR5J8UI46CURR</td>\n",
       "      <td>Geetha Krishnan</td>\n",
       "      <td>2</td>\n",
       "      <td>2</td>\n",
       "      <td>5</td>\n",
       "      <td>1199577600</td>\n",
       "      <td>LOACKER QUADRATINI VANILLA WAFERS</td>\n",
       "      <td>DELICIOUS WAFERS. I FIND THAT EUROPEAN WAFERS ...</td>\n",
       "    </tr>\n",
       "  </tbody>\n",
       "</table>\n",
       "</div>"
      ],
      "text/plain": [
       "       Id   ProductId         UserId      ProfileName  HelpfulnessNumerator  \\\n",
       "0   78445  B000HDL1RQ  AR5J8UI46CURR  Geetha Krishnan                     2   \n",
       "1  138317  B000HDOPYC  AR5J8UI46CURR  Geetha Krishnan                     2   \n",
       "2  138277  B000HDOPYM  AR5J8UI46CURR  Geetha Krishnan                     2   \n",
       "3   73791  B000HDOPZG  AR5J8UI46CURR  Geetha Krishnan                     2   \n",
       "4  155049  B000PAQ75C  AR5J8UI46CURR  Geetha Krishnan                     2   \n",
       "\n",
       "   HelpfulnessDenominator  Score        Time  \\\n",
       "0                       2      5  1199577600   \n",
       "1                       2      5  1199577600   \n",
       "2                       2      5  1199577600   \n",
       "3                       2      5  1199577600   \n",
       "4                       2      5  1199577600   \n",
       "\n",
       "                             Summary  \\\n",
       "0  LOACKER QUADRATINI VANILLA WAFERS   \n",
       "1  LOACKER QUADRATINI VANILLA WAFERS   \n",
       "2  LOACKER QUADRATINI VANILLA WAFERS   \n",
       "3  LOACKER QUADRATINI VANILLA WAFERS   \n",
       "4  LOACKER QUADRATINI VANILLA WAFERS   \n",
       "\n",
       "                                                Text  \n",
       "0  DELICIOUS WAFERS. I FIND THAT EUROPEAN WAFERS ...  \n",
       "1  DELICIOUS WAFERS. I FIND THAT EUROPEAN WAFERS ...  \n",
       "2  DELICIOUS WAFERS. I FIND THAT EUROPEAN WAFERS ...  \n",
       "3  DELICIOUS WAFERS. I FIND THAT EUROPEAN WAFERS ...  \n",
       "4  DELICIOUS WAFERS. I FIND THAT EUROPEAN WAFERS ...  "
      ]
     },
     "execution_count": 31,
     "metadata": {},
     "output_type": "execute_result"
    }
   ],
   "source": [
    "display= pd.read_sql_query(\"\"\"\n",
    "SELECT *\n",
    "FROM Reviews\n",
    "WHERE Score != 3 AND UserId=\"AR5J8UI46CURR\"\n",
    "ORDER BY ProductID\n",
    "\"\"\", con)\n",
    "display.head()"
   ]
  },
  {
   "cell_type": "markdown",
   "metadata": {
    "colab_type": "text",
    "id": "95Aa3bAYMQvb"
   },
   "source": [
    "As can be seen above the same user has multiple reviews of the with the same values for HelpfulnessNumerator, HelpfulnessDenominator, Score, Time, Summary and Text  and on doing analysis it was found that <br>\n",
    "<br> \n",
    "ProductId=B000HDOPZG was Loacker Quadratini Vanilla Wafer Cookies, 8.82-Ounce Packages (Pack of 8)<br>\n",
    "<br> \n",
    "ProductId=B000HDL1RQ was Loacker Quadratini Lemon Wafer Cookies, 8.82-Ounce Packages (Pack of 8) and so on<br>\n",
    "\n",
    "It was inferred after analysis that reviews with same parameters other than ProductId belonged to the same product just having different flavour or quantity. Hence in order to reduce redundancy it was decided to eliminate the rows having same parameters.<br>\n",
    "\n",
    "The method used for the same was that we first sort the data according to ProductId and then just keep the first similar product review and delelte the others. for eg. in the above just the review for ProductId=B000HDL1RQ remains. This method ensures that there is only one representative for each product and deduplication without sorting would lead to possibility of different representatives still existing for the same product."
   ]
  },
  {
   "cell_type": "code",
   "execution_count": 32,
   "metadata": {
    "colab": {},
    "colab_type": "code",
    "collapsed": true,
    "id": "0wUj2BDzMQvc"
   },
   "outputs": [],
   "source": [
    "#Sorting data according to ProductId in ascending order\n",
    "sorted_data=filtered_data.sort_values('ProductId', axis=0, ascending=True, inplace=False, kind='quicksort', na_position='last')"
   ]
  },
  {
   "cell_type": "code",
   "execution_count": 33,
   "metadata": {
    "colab": {},
    "colab_type": "code",
    "id": "hYd69x4KMQve"
   },
   "outputs": [
    {
     "data": {
      "text/plain": [
       "(54458, 10)"
      ]
     },
     "execution_count": 33,
     "metadata": {},
     "output_type": "execute_result"
    }
   ],
   "source": [
    "#Deduplication of entries\n",
    "final=sorted_data.drop_duplicates(subset={\"UserId\",\"ProfileName\",\"Time\",\"Text\"}, keep='first', inplace=False)\n",
    "final.shape"
   ]
  },
  {
   "cell_type": "code",
   "execution_count": 34,
   "metadata": {
    "colab": {},
    "colab_type": "code",
    "id": "_UVH2UNwMQvi"
   },
   "outputs": [
    {
     "data": {
      "text/plain": [
       "90.76333333333334"
      ]
     },
     "execution_count": 34,
     "metadata": {},
     "output_type": "execute_result"
    }
   ],
   "source": [
    "#Checking to see how much % of data still remains\n",
    "(final['Id'].size*1.0)/(filtered_data['Id'].size*1.0)*100"
   ]
  },
  {
   "cell_type": "markdown",
   "metadata": {
    "colab_type": "text",
    "id": "GeOy9IcuMQvk"
   },
   "source": [
    "<b>Observation:-</b> It was also seen that in two rows given below the value of HelpfulnessNumerator is greater than HelpfulnessDenominator which is not practically possible hence these two rows too are removed from calcualtions"
   ]
  },
  {
   "cell_type": "code",
   "execution_count": 35,
   "metadata": {
    "colab": {},
    "colab_type": "code",
    "id": "EDD5FsuGMQvm"
   },
   "outputs": [
    {
     "data": {
      "text/html": [
       "<div>\n",
       "<style scoped>\n",
       "    .dataframe tbody tr th:only-of-type {\n",
       "        vertical-align: middle;\n",
       "    }\n",
       "\n",
       "    .dataframe tbody tr th {\n",
       "        vertical-align: top;\n",
       "    }\n",
       "\n",
       "    .dataframe thead th {\n",
       "        text-align: right;\n",
       "    }\n",
       "</style>\n",
       "<table border=\"1\" class=\"dataframe\">\n",
       "  <thead>\n",
       "    <tr style=\"text-align: right;\">\n",
       "      <th></th>\n",
       "      <th>Id</th>\n",
       "      <th>ProductId</th>\n",
       "      <th>UserId</th>\n",
       "      <th>ProfileName</th>\n",
       "      <th>HelpfulnessNumerator</th>\n",
       "      <th>HelpfulnessDenominator</th>\n",
       "      <th>Score</th>\n",
       "      <th>Time</th>\n",
       "      <th>Summary</th>\n",
       "      <th>Text</th>\n",
       "    </tr>\n",
       "  </thead>\n",
       "  <tbody>\n",
       "    <tr>\n",
       "      <th>0</th>\n",
       "      <td>64422</td>\n",
       "      <td>B000MIDROQ</td>\n",
       "      <td>A161DK06JJMCYF</td>\n",
       "      <td>J. E. Stephens \"Jeanne\"</td>\n",
       "      <td>3</td>\n",
       "      <td>1</td>\n",
       "      <td>5</td>\n",
       "      <td>1224892800</td>\n",
       "      <td>Bought This for My Son at College</td>\n",
       "      <td>My son loves spaghetti so I didn't hesitate or...</td>\n",
       "    </tr>\n",
       "    <tr>\n",
       "      <th>1</th>\n",
       "      <td>44737</td>\n",
       "      <td>B001EQ55RW</td>\n",
       "      <td>A2V0I904FH7ABY</td>\n",
       "      <td>Ram</td>\n",
       "      <td>3</td>\n",
       "      <td>2</td>\n",
       "      <td>4</td>\n",
       "      <td>1212883200</td>\n",
       "      <td>Pure cocoa taste with crunchy almonds inside</td>\n",
       "      <td>It was almost a 'love at first bite' - the per...</td>\n",
       "    </tr>\n",
       "  </tbody>\n",
       "</table>\n",
       "</div>"
      ],
      "text/plain": [
       "      Id   ProductId          UserId              ProfileName  \\\n",
       "0  64422  B000MIDROQ  A161DK06JJMCYF  J. E. Stephens \"Jeanne\"   \n",
       "1  44737  B001EQ55RW  A2V0I904FH7ABY                      Ram   \n",
       "\n",
       "   HelpfulnessNumerator  HelpfulnessDenominator  Score        Time  \\\n",
       "0                     3                       1      5  1224892800   \n",
       "1                     3                       2      4  1212883200   \n",
       "\n",
       "                                        Summary  \\\n",
       "0             Bought This for My Son at College   \n",
       "1  Pure cocoa taste with crunchy almonds inside   \n",
       "\n",
       "                                                Text  \n",
       "0  My son loves spaghetti so I didn't hesitate or...  \n",
       "1  It was almost a 'love at first bite' - the per...  "
      ]
     },
     "execution_count": 35,
     "metadata": {},
     "output_type": "execute_result"
    }
   ],
   "source": [
    "display= pd.read_sql_query(\"\"\"\n",
    "SELECT *\n",
    "FROM Reviews\n",
    "WHERE Score != 3 AND Id=44737 OR Id=64422\n",
    "ORDER BY ProductID\n",
    "\"\"\", con)\n",
    "\n",
    "display.head()"
   ]
  },
  {
   "cell_type": "code",
   "execution_count": 36,
   "metadata": {
    "colab": {},
    "colab_type": "code",
    "collapsed": true,
    "id": "kThrWN9FMQvq"
   },
   "outputs": [],
   "source": [
    "final=final[final.HelpfulnessNumerator<=final.HelpfulnessDenominator]"
   ]
  },
  {
   "cell_type": "code",
   "execution_count": 37,
   "metadata": {
    "colab": {},
    "colab_type": "code",
    "id": "lvw544BEMQvs"
   },
   "outputs": [
    {
     "name": "stdout",
     "output_type": "stream",
     "text": [
      "(54456, 10)\n"
     ]
    },
    {
     "data": {
      "text/plain": [
       "1    45572\n",
       "0     8884\n",
       "Name: Score, dtype: int64"
      ]
     },
     "execution_count": 37,
     "metadata": {},
     "output_type": "execute_result"
    }
   ],
   "source": [
    "#Before starting the next phase of preprocessing lets see the number of entries left\n",
    "print(final.shape)\n",
    "\n",
    "#How many positive and negative reviews are present in our dataset?\n",
    "final['Score'].value_counts()"
   ]
  },
  {
   "cell_type": "markdown",
   "metadata": {
    "colab_type": "text",
    "id": "3-ZDuet8MQvw"
   },
   "source": [
    "## 7.2.3  Text Preprocessing: Stemming, stop-word removal and Lemmatization.\n",
    "\n",
    "Now that we have finished deduplication our data requires some preprocessing before we go on further with analysis and making the prediction model.\n",
    "\n",
    "Hence in the Preprocessing phase we do the following in the order below:-\n",
    "\n",
    "1. Begin by removing the html tags\n",
    "2. Remove any punctuations or limited set of special characters like , or . or # etc.\n",
    "3. Check if the word is made up of english letters and is not alpha-numeric\n",
    "4. Check to see if the length of the word is greater than 2 (as it was researched that there is no adjective in 2-letters)\n",
    "5. Convert the word to lowercase\n",
    "6. Remove Stopwords\n",
    "7. Finally Snowball Stemming the word (it was obsereved to be better than Porter Stemming)<br>\n",
    "\n",
    "After which we collect the words used to describe positive and negative reviews"
   ]
  },
  {
   "cell_type": "code",
   "execution_count": 38,
   "metadata": {
    "colab": {},
    "colab_type": "code",
    "id": "I2NRwIj6MQvz"
   },
   "outputs": [
    {
     "name": "stdout",
     "output_type": "stream",
     "text": [
      "2\n",
      "Why is this $[...] when the same product is available for $[...] here?<br />http://www.amazon.com/VICTOR-FLY-MAGNET-BAIT-REFILL/dp/B00004RBDY<br /><br />The Victor M380 and M502 traps are unreal, of course -- total fly genocide. Pretty stinky, but only right nearby.\n"
     ]
    },
    {
     "data": {
      "text/plain": [
       "(54456, 10)"
      ]
     },
     "execution_count": 38,
     "metadata": {},
     "output_type": "execute_result"
    }
   ],
   "source": [
    "# find sentences containing HTML tags\n",
    "import re\n",
    "i=0;\n",
    "for sent in final['Text'].values:\n",
    "    if (len(re.findall('<.*?>', sent))):\n",
    "        print(i)\n",
    "        print(sent)\n",
    "        break;\n",
    "    i += 1;\n",
    "final.shape"
   ]
  },
  {
   "cell_type": "code",
   "execution_count": 39,
   "metadata": {
    "colab": {},
    "colab_type": "code",
    "id": "hSYsO2neMQv2"
   },
   "outputs": [
    {
     "name": "stdout",
     "output_type": "stream",
     "text": [
      "{'then', 'did', 'nor', 'these', 'most', \"shan't\", 'so', 'themselves', 'aren', 'doesn', 'mustn', \"you'll\", 'more', 'theirs', \"you're\", 'they', 'than', 'only', \"mightn't\", 'your', 'after', 'now', 'her', 'them', 'hasn', \"she's\", 'was', 'am', 'herself', 'be', 'and', 'our', 'myself', 'why', 'him', 'hadn', 'it', \"shouldn't\", 'didn', 'are', 'again', 'me', 'won', \"you'd\", 'there', 'that', 'ma', 'wouldn', 'an', 'to', 'ain', 'at', 'his', 'of', 'while', 'for', 'wasn', 'doing', 'against', 'the', 'about', 'm', 'with', 'all', 'you', 'itself', \"isn't\", 'do', 'is', 'we', 'when', 'any', 'being', \"you've\", \"wouldn't\", 'haven', 'over', 'whom', 'up', 'or', 'should', 'ours', 'under', 'i', 'y', 'few', 'before', 'couldn', 'but', 'each', 'my', 'their', 'until', 'yourself', 'she', 'below', \"weren't\", 'through', 'who', 'some', 'such', 'how', 'were', 'further', 'here', 'ourselves', 'can', 'from', 'above', \"aren't\", 'don', 'as', 'shan', 'weren', 'needn', 'its', 'own', 'd', 'both', 'have', 'in', 'himself', 'this', 'yours', 'out', 're', 've', \"don't\", 'too', 'into', 'where', \"didn't\", 'during', 'no', 'shouldn', 'down', 'will', \"couldn't\", 'he', 'other', 'yourselves', 'a', \"doesn't\", 'once', 'been', \"mustn't\", 'if', 'has', 'had', 's', 'off', \"wasn't\", 'does', \"won't\", \"needn't\", 'between', 'just', 'because', \"should've\", 'll', 'mightn', 'having', 'on', 'by', \"haven't\", 't', \"it's\", 'o', \"hasn't\", 'very', 'not', 'those', 'hers', 'same', 'which', \"hadn't\", 'isn', \"that'll\", 'what'}\n",
      "************************************\n",
      "tasti\n"
     ]
    },
    {
     "data": {
      "text/plain": [
       "(54456, 10)"
      ]
     },
     "execution_count": 39,
     "metadata": {},
     "output_type": "execute_result"
    }
   ],
   "source": [
    "\n",
    "stop = set(stopwords.words('english')) #set of stopwords\n",
    "sno = nltk.stem.SnowballStemmer('english') #initialising the snowball stemmer\n",
    "\n",
    "def cleanhtml(sentence): #function to clean the word of any html-tags\n",
    "    cleanr = re.compile('<.*?>')\n",
    "    cleantext = re.sub(cleanr, ' ', sentence)\n",
    "    return cleantext\n",
    "def cleanpunc(sentence): #function to clean the word of any punctuation or special characters\n",
    "    cleaned = re.sub(r'[?|!|\\'|\"|#]',r'',sentence)\n",
    "    cleaned = re.sub(r'[.|,|)|(|\\|/]',r' ',cleaned)\n",
    "    return  cleaned\n",
    "print(stop)\n",
    "print('************************************')\n",
    "print(sno.stem('tasty'))\n",
    "final.shape"
   ]
  },
  {
   "cell_type": "code",
   "execution_count": 40,
   "metadata": {
    "colab": {},
    "colab_type": "code",
    "id": "BUGzVaKbMQv5"
   },
   "outputs": [
    {
     "name": "stdout",
     "output_type": "stream",
     "text": [
      "(54456, 10)\n"
     ]
    }
   ],
   "source": [
    "#Code for implementing step-by-step the checks mentioned in the pre-processing phase\n",
    "# this code takes a while to run as it needs to run on 500k sentences.\n",
    "if not os.path.isfile('final4.sqlite'):\n",
    "    final_string=[]\n",
    "    all_positive_words=[] # store words from +ve reviews here\n",
    "    all_negative_words=[] # store words from -ve reviews here.\n",
    "    for i, sent in enumerate(tqdm(final['Text'].values)):\n",
    "        filtered_sentence=[]\n",
    "        #print(sent);\n",
    "        sent=cleanhtml(sent) # remove HTMl tags\n",
    "        for w in sent.split():\n",
    "            # we have used cleanpunc(w).split(), one more split function here because consider w=\"abc.def\", cleanpunc(w) will return \"abc def\"\n",
    "            # if we dont use .split() function then we will be considring \"abc def\" as a single word, but if you use .split() function we will get \"abc\", \"def\"\n",
    "            for cleaned_words in cleanpunc(w).split():\n",
    "                if((cleaned_words.isalpha()) & (len(cleaned_words)>2)):    \n",
    "                    if(cleaned_words.lower() not in stop):\n",
    "                        s=(sno.stem(cleaned_words.lower())).encode('utf8')\n",
    "                        filtered_sentence.append(s)\n",
    "                        if (final['Score'].values)[i] == 1: \n",
    "                            all_positive_words.append(s) #list of all words used to describe positive reviews\n",
    "                        if(final['Score'].values)[i] == 0:\n",
    "                            all_negative_words.append(s) #list of all words used to describe negative reviews reviews\n",
    "        str1 = b\" \".join(filtered_sentence) #final string of cleaned words\n",
    "        #print(\"***********************************************************************\")\n",
    "        final_string.append(str1)\n",
    "\n",
    "    #############---- storing the data into .sqlite file ------########################\n",
    "    final['CleanedText']=final_string #adding a column of CleanedText which displays the data after pre-processing of the review \n",
    "    final['CleanedText']=final['CleanedText'].str.decode(\"utf-8\")\n",
    "        # store final table into an SQlLite table for future.\n",
    "    conn = sqlite3.connect('final4.sqlite')\n",
    "    c=conn.cursor()\n",
    "    conn.text_factory = str\n",
    "    final.to_sql('Reviews', conn,  schema=None, if_exists='replace', \\\n",
    "                 index=True, index_label=None, chunksize=None, dtype=None)\n",
    "    conn.close()\n",
    "    \n",
    "    \n",
    "    with open('positive_words.pkl', 'wb') as f:\n",
    "        pickle.dump(all_positive_words, f)\n",
    "    with open('negitive_words.pkl', 'wb') as f:\n",
    "        pickle.dump(all_negative_words, f)\n",
    "print(final.shape)"
   ]
  },
  {
   "cell_type": "code",
   "execution_count": 58,
   "metadata": {
    "colab": {},
    "colab_type": "code",
    "id": "bU88yTG9MQv-",
    "scrolled": false
   },
   "outputs": [
    {
     "name": "stdout",
     "output_type": "stream",
     "text": [
      "(54456, 12)\n",
      "1    45572\n",
      "0     8884\n",
      "Name: Score, dtype: int64\n"
     ]
    }
   ],
   "source": [
    "if os.path.isfile('final4.sqlite'):\n",
    "    conn = sqlite3.connect('final4.sqlite')\n",
    "    final = pd.read_sql_query(\"\"\" SELECT * FROM Reviews WHERE Score != 3 \"\"\", conn)\n",
    "    conn.close()\n",
    "else:\n",
    "    print(\"Please the above cell\")\n",
    "print(final.shape)\n",
    "print(final['Score'].value_counts())"
   ]
  },
  {
   "cell_type": "markdown",
   "metadata": {
    "colab_type": "text",
    "id": "hXA02Hw0MQv_"
   },
   "source": [
    "# [7.2.2] Bag of Words (BoW)"
   ]
  },
  {
   "cell_type": "code",
   "execution_count": 4,
   "metadata": {
    "colab": {},
    "colab_type": "code",
    "id": "giCwNM_rMQwA"
   },
   "outputs": [
    {
     "name": "stdout",
     "output_type": "stream",
     "text": [
      "(54456, 12)\n",
      "the type of count vectorizer  <class 'scipy.sparse.csr.csr_matrix'>\n",
      "the shape of out text BOW vectorizer  (54456, 27154)\n",
      "the number of unique words  27154\n"
     ]
    },
    {
     "data": {
      "text/plain": [
       "<54456x27154 sparse matrix of type '<class 'numpy.int64'>'\n",
       "\twith 1716934 stored elements in Compressed Sparse Row format>"
      ]
     },
     "execution_count": 4,
     "metadata": {},
     "output_type": "execute_result"
    }
   ],
   "source": [
    "#BoW\n",
    "count_vect = CountVectorizer() #in scikit-learn\n",
    "print(final.shape)\n",
    "final_counts = count_vect.fit_transform(final['CleanedText'].values)\n",
    "print(\"the type of count vectorizer \",type(final_counts))\n",
    "print(\"the shape of out text BOW vectorizer \",final_counts.get_shape())\n",
    "print(\"the number of unique words \", final_counts.get_shape()[1])\n",
    "final_counts"
   ]
  },
  {
   "cell_type": "markdown",
   "metadata": {},
   "source": [
    "# KNN for Bag of Words using brute force"
   ]
  },
  {
   "cell_type": "code",
   "execution_count": 5,
   "metadata": {
    "collapsed": true
   },
   "outputs": [],
   "source": [
    "from sklearn.model_selection import train_test_split\n",
    "x_train, x_test, y_train, y_test = train_test_split(final_counts, final['Score'], test_size=0.2)\n",
    "x_train,x_cv,y_train,y_cv = train_test_split(x_train,y_train,test_size=0.2)"
   ]
  },
  {
   "cell_type": "code",
   "execution_count": 6,
   "metadata": {
    "scrolled": true
   },
   "outputs": [
    {
     "name": "stdout",
     "output_type": "stream",
     "text": [
      "1  ------>  0.8086766900034431\n",
      "3  ------>  0.8348444852519225\n",
      "5  ------>  0.8424193733501664\n",
      "7  ------>  0.8462068173992884\n",
      "9  ------>  0.8456329622403306\n",
      "11  ------>  0.8452886491449558\n",
      "13  ------>  0.8446000229542063\n",
      "15  ------>  0.8435670836680822\n",
      "17  ------>  0.8427636864455411\n",
      "19  ------>  0.8423046023183749\n"
     ]
    }
   ],
   "source": [
    "%matplotlib inline\n",
    "import warnings\n",
    "warnings.filterwarnings(\"ignore\")\n",
    "from sklearn.neighbors import KNeighborsClassifier\n",
    "from sklearn.metrics import accuracy_score\n",
    "from sklearn import cross_validation\n",
    "from sklearn.metrics import f1_score\n",
    "k = []\n",
    "pred_cv = []\n",
    "for i in range(1,20,2):\n",
    "    knn =KNeighborsClassifier(n_neighbors=i)\n",
    "    knn.fit(x_train,y_train)\n",
    "    prediction = knn.predict(x_cv)\n",
    "    score = accuracy_score(y_cv,prediction)\n",
    "    print(i,\" ------> \",score)\n",
    "    pred_cv.append(score)\n",
    "    k.append(i)"
   ]
  },
  {
   "cell_type": "code",
   "execution_count": 7,
   "metadata": {},
   "outputs": [
    {
     "name": "stdout",
     "output_type": "stream",
     "text": [
      "(34851, 27154)\n",
      "(10892, 27154)\n",
      "(8713, 27154)\n"
     ]
    },
    {
     "data": {
      "image/png": "[encoded data removed]",
      "text/plain": [
       "<Figure size 432x288 with 1 Axes>"
      ]
     },
     "metadata": {},
     "output_type": "display_data"
    }
   ],
   "source": [
    "print(x_train.shape)\n",
    "print(x_test.shape)\n",
    "print(x_cv.shape)\n",
    "plt.plot(k,pred_cv)\n",
    "plt.xlabel(\"k\")\n",
    "plt.ylabel(\"accuracy\")\n",
    "plt.show()"
   ]
  },
  {
   "cell_type": "markdown",
   "metadata": {},
   "source": [
    "-> From the above plot we can see that we are getting the maximum accuracy at k = 7"
   ]
  },
  {
   "cell_type": "markdown",
   "metadata": {},
   "source": [
    "# calculating the train error of the model"
   ]
  },
  {
   "cell_type": "code",
   "execution_count": 8,
   "metadata": {
    "scrolled": true
   },
   "outputs": [
    {
     "name": "stdout",
     "output_type": "stream",
     "text": [
      "accuracy score 0.8586267252015725\n",
      "macro f1 score for training data : 0.596916651848169\n",
      "micro f1 scoore for training data: 0.8586267252015725\n",
      "hamming loss for training data: 0.1413732747984276\n",
      "Precision recall report for training data:\n",
      "               precision    recall  f1-score   support\n",
      "\n",
      "           0       0.85      0.16      0.27      5687\n",
      "           1       0.86      0.99      0.92     29164\n",
      "\n",
      "   micro avg       0.86      0.86      0.86     34851\n",
      "   macro avg       0.86      0.58      0.60     34851\n",
      "weighted avg       0.86      0.86      0.82     34851\n",
      "\n"
     ]
    },
    {
     "data": {
      "image/png": "[encoded data removed]",
      "text/plain": [
       "<Figure size 432x288 with 2 Axes>"
      ]
     },
     "metadata": {},
     "output_type": "display_data"
    }
   ],
   "source": [
    "import scikitplot.metrics as skplt\n",
    "knn =KNeighborsClassifier(n_neighbors=7)\n",
    "knn.fit(x_train,y_train)\n",
    "prediction = knn.predict(x_train)\n",
    "print(\"accuracy score\",accuracy_score(y_train,prediction))\n",
    "skplt.plot_confusion_matrix(y_train,prediction)\n",
    "print(\"macro f1 score for training data :\",metrics.f1_score(y_train, prediction, average = 'macro'))\n",
    "print(\"micro f1 scoore for training data:\",metrics.f1_score(y_train, prediction, average = 'micro'))\n",
    "print(\"hamming loss for training data:\",metrics.hamming_loss(y_train,prediction))\n",
    "print(\"Precision recall report for training data:\\n\",metrics.classification_report(y_train, prediction))"
   ]
  },
  {
   "cell_type": "markdown",
   "metadata": {},
   "source": [
    "-> from the above result we can conclude various results-:\n",
    "1. The training accuracy of our model is .8586\n",
    "2. There were total 5687 negative reviews in my training data in which 921 were correctly classified by my algo where as rest of the point were miss classified by my algo\n",
    "3. There were total  29164 positive points in my training data in which 29003 were correctly classified and rest of the 161 points were missclassified by my algorithm"
   ]
  },
  {
   "cell_type": "markdown",
   "metadata": {},
   "source": [
    "# KNN Over the unseen data or test data "
   ]
  },
  {
   "cell_type": "code",
   "execution_count": 9,
   "metadata": {},
   "outputs": [
    {
     "name": "stdout",
     "output_type": "stream",
     "text": [
      "accuracy score 0.8402497245684907\n",
      "macro f1 score : 0.5286364578761154\n",
      "micro f1 scoore : 0.8402497245684907\n",
      "hamming loss : 0.15975027543150935\n",
      "Precision recall report :\n",
      "               precision    recall  f1-score   support\n",
      "\n",
      "           0       0.62      0.08      0.15      1799\n",
      "           1       0.85      0.99      0.91      9093\n",
      "\n",
      "   micro avg       0.84      0.84      0.84     10892\n",
      "   macro avg       0.73      0.54      0.53     10892\n",
      "weighted avg       0.81      0.84      0.79     10892\n",
      "\n"
     ]
    },
    {
     "data": {
      "image/png": "[encoded data removed]",
      "text/plain": [
       "<Figure size 432x288 with 2 Axes>"
      ]
     },
     "metadata": {},
     "output_type": "display_data"
    }
   ],
   "source": [
    "# as i have already train my model using k = 9 so need not to train again i can ue it directly\n",
    "prediction = knn.predict(x_test)\n",
    "print(\"accuracy score\",accuracy_score(y_test,prediction))\n",
    "skplt.plot_confusion_matrix(y_test,prediction)\n",
    "print(\"macro f1 score :\",metrics.f1_score(y_test, prediction, average = 'macro'))\n",
    "print(\"micro f1 scoore :\",metrics.f1_score(y_test, prediction, average = 'micro'))\n",
    "print(\"hamming loss :\",metrics.hamming_loss(y_test,prediction))\n",
    "print(\"Precision recall report :\\n\",metrics.classification_report(y_test, prediction))"
   ]
  },
  {
   "cell_type": "markdown",
   "metadata": {},
   "source": [
    "# KNN on Bag of Words using kd tree over bag of words\n",
    "-> calculating the training error "
   ]
  },
  {
   "cell_type": "code",
   "execution_count": 10,
   "metadata": {},
   "outputs": [
    {
     "name": "stdout",
     "output_type": "stream",
     "text": [
      "accuracy score using kd tree 0.869300737425038\n",
      "macro f1 score : 0.685590241195846\n",
      "micro f1 scoore : 0.869300737425038\n",
      "hamming loss : 0.13069926257496198\n",
      "Precision recall report :\n",
      "               precision    recall  f1-score   support\n",
      "\n",
      "           0       0.72      0.32      0.45      5687\n",
      "           1       0.88      0.98      0.93     29164\n",
      "\n",
      "   micro avg       0.87      0.87      0.87     34851\n",
      "   macro avg       0.80      0.65      0.69     34851\n",
      "weighted avg       0.86      0.87      0.85     34851\n",
      "\n"
     ]
    },
    {
     "data": {
      "image/png": "[encoded data removed]",
      "text/plain": [
       "<Figure size 432x288 with 2 Axes>"
      ]
     },
     "metadata": {},
     "output_type": "display_data"
    }
   ],
   "source": [
    "from sklearn.decomposition import TruncatedSVD\n",
    "tsvd = TruncatedSVD(n_components=100)\n",
    "x = tsvd.fit_transform(x_train) # conversion into dence matrix\n",
    "xt = tsvd.fit_transform(x_test)\n",
    "knn = KNeighborsClassifier(n_neighbors = 7,algorithm = 'kd_tree')\n",
    "knn.fit(x,y_train)\n",
    "prediction = knn.predict(x)\n",
    "print(\"accuracy score using kd tree\",accuracy_score(y_train,prediction))\n",
    "skplt.plot_confusion_matrix(y_train,prediction)\n",
    "print(\"macro f1 score :\",metrics.f1_score(y_train, prediction, average = 'macro'))\n",
    "print(\"micro f1 scoore :\",metrics.f1_score(y_train, prediction, average = 'micro'))\n",
    "print(\"hamming loss :\",metrics.hamming_loss(y_train,prediction))\n",
    "print(\"Precision recall report :\\n\",metrics.classification_report(y_train, prediction))"
   ]
  },
  {
   "cell_type": "markdown",
   "metadata": {},
   "source": [
    "-> From the above result we can conclude the following points -:\n",
    "1. We are getting higher accuracy when we are using kd_tree as our algorithm in KNN as  compare to brute force.\n",
    "2. The accuracy of the model on the training data is almost 87%.\n",
    "3. Other score of the model like micro f1_score is also imporved as compare to the brute force method.\n",
    "# Testing of the model over the unseen data or test data"
   ]
  },
  {
   "cell_type": "code",
   "execution_count": 11,
   "metadata": {},
   "outputs": [
    {
     "name": "stdout",
     "output_type": "stream",
     "text": [
      "accuracy score using kd tree 0.7864487697392581\n",
      "macro f1 score : 0.5000251025573665\n",
      "micro f1 scoore : 0.7864487697392581\n",
      "hamming loss : 0.21355123026074183\n",
      "Precision recall report :\n",
      "               precision    recall  f1-score   support\n",
      "\n",
      "           0       0.19      0.09      0.12      1799\n",
      "           1       0.84      0.92      0.88      9093\n",
      "\n",
      "   micro avg       0.79      0.79      0.79     10892\n",
      "   macro avg       0.51      0.51      0.50     10892\n",
      "weighted avg       0.73      0.79      0.75     10892\n",
      "\n"
     ]
    },
    {
     "data": {
      "image/png": "[encoded data removed]",
      "text/plain": [
       "<Figure size 432x288 with 2 Axes>"
      ]
     },
     "metadata": {},
     "output_type": "display_data"
    }
   ],
   "source": [
    "#tsvd = TruncatedSVD(n_components=100)\n",
    "#x = tsvd.fit_transform(x_train) # conversion into dence matrix\n",
    "#xt = tsvd.fit_transform(x_test)\n",
    "#knn = KNeighborsClassifier(n_neighbors = 7,algorithm = 'kd_tree')\n",
    "#knn.fit(x,y_train)\n",
    "prediction = knn.predict(xt)\n",
    "print(\"accuracy score using kd tree\",accuracy_score(y_test,prediction))\n",
    "skplt.plot_confusion_matrix(y_test,prediction)\n",
    "print(\"macro f1 score :\",metrics.f1_score(y_test, prediction, average = 'macro'))\n",
    "print(\"micro f1 scoore :\",metrics.f1_score(y_test, prediction, average = 'micro'))\n",
    "print(\"hamming loss :\",metrics.hamming_loss(y_test,prediction))\n",
    "print(\"Precision recall report :\\n\",metrics.classification_report(y_test, prediction))"
   ]
  },
  {
   "cell_type": "markdown",
   "metadata": {},
   "source": [
    "-> from the above result we can say that the accuracy of our KNN model is 78.64%, that is less then our brute force mehtod."
   ]
  },
  {
   "cell_type": "markdown",
   "metadata": {
    "colab_type": "text",
    "id": "0Zhvc5AMMQwD"
   },
   "source": [
    "## [7.2.4] Bi-Grams and n-Grams.\n",
    "\n",
    "**Motivation**\n",
    "\n",
    "Now that we have our list of words describing positive and negative reviews lets analyse them.<br>\n",
    "\n",
    "We begin analysis by getting the frequency distribution of the words as shown below"
   ]
  },
  {
   "cell_type": "code",
   "execution_count": 12,
   "metadata": {
    "colab": {},
    "colab_type": "code",
    "id": "dmhJ1DOlMQwD"
   },
   "outputs": [
    {
     "name": "stdout",
     "output_type": "stream",
     "text": [
      "Most Common Positive Words :  [(b'like', 21329), (b'tast', 18897), (b'good', 17053), (b'flavor', 16429), (b'love', 16415), (b'great', 15454), (b'one', 14595), (b'use', 14023), (b'tea', 13054), (b'tri', 13041), (b'product', 12928), (b'coffe', 12312), (b'get', 11022), (b'food', 11002), (b'make', 10810), (b'dog', 8833), (b'would', 8461), (b'eat', 8133), (b'time', 8115), (b'buy', 8032)]\n",
      "Most Common Negative Words :  [(b'tast', 5558), (b'like', 5293), (b'product', 4228), (b'one', 3219), (b'flavor', 3028), (b'would', 2886), (b'tri', 2839), (b'good', 2367), (b'use', 2360), (b'coffe', 2258), (b'get', 2210), (b'food', 2187), (b'buy', 2133), (b'tea', 2024), (b'dont', 1939), (b'dog', 1871), (b'order', 1868), (b'even', 1812), (b'eat', 1686), (b'box', 1665)]\n"
     ]
    }
   ],
   "source": [
    "with open('positive_words.pkl', 'rb') as f:\n",
    "    all_positive_words = pickle.load(f)\n",
    "with open('negitive_words.pkl', 'rb') as f:\n",
    "    all_negative_words = pickle.load(f)\n",
    "    \n",
    "freq_dist_positive=nltk.FreqDist(all_positive_words)\n",
    "freq_dist_negative=nltk.FreqDist(all_negative_words)\n",
    "print(\"Most Common Positive Words : \",freq_dist_positive.most_common(20))\n",
    "print(\"Most Common Negative Words : \",freq_dist_negative.most_common(20))"
   ]
  },
  {
   "cell_type": "markdown",
   "metadata": {
    "colab_type": "text",
    "id": "UUrdD4vNMQwH"
   },
   "source": [
    "<b>Observation:-</b> From the above it can be seen that the most common positive and the negative words overlap for eg. 'like' could be used as 'not like' etc. <br>\n",
    "So, it is a good idea to consider pairs of consequent words (bi-grams) or q sequnce of n consecutive words (n-grams)"
   ]
  },
  {
   "cell_type": "code",
   "execution_count": 13,
   "metadata": {
    "colab": {},
    "colab_type": "code",
    "id": "7sDVOf4yMQwI"
   },
   "outputs": [
    {
     "name": "stdout",
     "output_type": "stream",
     "text": [
      "the type of count vectorizer  <class 'scipy.sparse.csr.csr_matrix'>\n",
      "the shape of out text BOW vectorizer  (54456, 804732)\n",
      "the number of unique words including both unigrams and bigrams  804732\n"
     ]
    }
   ],
   "source": [
    "#bi-gram, tri-gram and n-gram\n",
    "\n",
    "#removing stop words like \"not\" should be avoided before building n-grams\n",
    "count_vect = CountVectorizer(ngram_range=(1,2) ) #in scikit-learn\n",
    "final_bigram_counts = count_vect.fit_transform(final['CleanedText'].values)\n",
    "print(\"the type of count vectorizer \",type(final_bigram_counts))\n",
    "print(\"the shape of out text BOW vectorizer \",final_bigram_counts.get_shape())\n",
    "print(\"the number of unique words including both unigrams and bigrams \", final_bigram_counts.get_shape()[1])"
   ]
  },
  {
   "cell_type": "code",
   "execution_count": 14,
   "metadata": {},
   "outputs": [
    {
     "name": "stdout",
     "output_type": "stream",
     "text": [
      "1 accuracy 0.47423390336279125\n",
      "3 accuracy 0.6720991621714679\n",
      "5 accuracy 0.7817054975324228\n",
      "7 accuracy 0.8120050499253988\n",
      "9 accuracy 0.8280729943762194\n",
      "11 accuracy 0.8333524618386319\n",
      "13 accuracy 0.8353035693790887\n",
      "15 accuracy 0.8359921955698382\n",
      "17 accuracy 0.8351887983472971\n",
      "19 accuracy 0.8358774245380466\n"
     ]
    },
    {
     "data": {
      "image/png": "[encoded data removed]",
      "text/plain": [
       "<Figure size 432x288 with 1 Axes>"
      ]
     },
     "metadata": {},
     "output_type": "display_data"
    }
   ],
   "source": [
    "x_train, x_test, y_train, y_test = train_test_split(final_bigram_counts, final['Score'], test_size=0.2)\n",
    "x_train,x_cv,y_train,y_cv = train_test_split(x_train,y_train,test_size=0.2)\n",
    "k = []\n",
    "acc = []\n",
    "for i in range(1,20,2):\n",
    "    knn = KNeighborsClassifier(i)\n",
    "    knn.fit(x_train,y_train)\n",
    "    prediction = knn.predict(x_cv)\n",
    "    accuracy = accuracy_score(y_cv,prediction)\n",
    "    print(i,\"accuracy\",accuracy)\n",
    "    k.append(i)\n",
    "    acc.append(accuracy)\n",
    "plt.plot(k,acc)\n",
    "plt.xlabel(\"k\")\n",
    "plt.ylabel(\"accuracy\")\n",
    "plt.show()"
   ]
  },
  {
   "cell_type": "markdown",
   "metadata": {},
   "source": [
    "->In the above code we are getting higher accuracy at k = 15 during the cross vaildation but we will use k = 10 as our   nearest neighbors as our training and cv data consists more positive points so it is giving higher accuracy at large k.\n",
    "-> Accuracy at k =10 and k =15 is almost same\n",
    "# Accuracy on the training data using brute force"
   ]
  },
  {
   "cell_type": "code",
   "execution_count": 15,
   "metadata": {},
   "outputs": [
    {
     "name": "stdout",
     "output_type": "stream",
     "text": [
      "accuracy score using kd tree 0.8553269633582967\n",
      "macro f1 score : 0.6299151233365332\n",
      "micro f1 scoore : 0.8553269633582967\n",
      "hamming loss : 0.14467303664170325\n",
      "Precision recall report :\n",
      "               precision    recall  f1-score   support\n",
      "\n",
      "           0       0.65      0.23      0.34      5657\n",
      "           1       0.87      0.98      0.92     29194\n",
      "\n",
      "   micro avg       0.86      0.86      0.86     34851\n",
      "   macro avg       0.76      0.60      0.63     34851\n",
      "weighted avg       0.83      0.86      0.82     34851\n",
      "\n"
     ]
    },
    {
     "data": {
      "image/png": "[encoded data removed]",
      "text/plain": [
       "<Figure size 432x288 with 2 Axes>"
      ]
     },
     "metadata": {},
     "output_type": "display_data"
    }
   ],
   "source": [
    "knn = KNeighborsClassifier(n_neighbors = 10)\n",
    "knn.fit(x_train,y_train)\n",
    "prediction = knn.predict(x_train)\n",
    "print(\"accuracy score using\",accuracy_score(y_train,prediction))\n",
    "skplt.plot_confusion_matrix(y_train,prediction)\n",
    "print(\"macro f1 score :\",metrics.f1_score(y_train, prediction, average = 'macro'))\n",
    "print(\"micro f1 scoore :\",metrics.f1_score(y_train, prediction, average = 'micro'))\n",
    "print(\"hamming loss :\",metrics.hamming_loss(y_train,prediction))\n",
    "print(\"Precision recall report :\\n\",metrics.classification_report(y_train, prediction))"
   ]
  },
  {
   "cell_type": "markdown",
   "metadata": {},
   "source": [
    "# Testing of the model using unseen data or test data"
   ]
  },
  {
   "cell_type": "code",
   "execution_count": 16,
   "metadata": {},
   "outputs": [
    {
     "name": "stdout",
     "output_type": "stream",
     "text": [
      "accuracy score using test data 0.8228975394785163\n",
      "macro f1 score : 0.5316886580627465\n",
      "micro f1 scoore : 0.8228975394785164\n",
      "hamming loss : 0.17710246052148365\n",
      "Precision recall report :\n",
      "               precision    recall  f1-score   support\n",
      "\n",
      "           0       0.36      0.10      0.16      1790\n",
      "           1       0.85      0.96      0.90      9102\n",
      "\n",
      "   micro avg       0.82      0.82      0.82     10892\n",
      "   macro avg       0.61      0.53      0.53     10892\n",
      "weighted avg       0.77      0.82      0.78     10892\n",
      "\n"
     ]
    },
    {
     "data": {
      "image/png": "[encoded data removed]",
      "text/plain": [
       "<Figure size 432x288 with 2 Axes>"
      ]
     },
     "metadata": {},
     "output_type": "display_data"
    }
   ],
   "source": [
    "# as for k =10 we have already trained our model so we need not to trained the model again\n",
    "prediction = knn.predict(x_test)\n",
    "print(\"accuracy score using test data\",accuracy_score(y_test,prediction))\n",
    "skplt.plot_confusion_matrix(y_test,prediction)\n",
    "print(\"macro f1 score :\",metrics.f1_score(y_test, prediction, average = 'macro'))\n",
    "print(\"micro f1 scoore :\",metrics.f1_score(y_test, prediction, average = 'micro'))\n",
    "print(\"hamming loss :\",metrics.hamming_loss(y_test,prediction))\n",
    "print(\"Precision recall report :\\n\",metrics.classification_report(y_test, prediction))"
   ]
  },
  {
   "cell_type": "markdown",
   "metadata": {},
   "source": [
    "-> From the above result we can say that using k =10 our KNN model is giving an accuracy of 82.28% on the unseen data."
   ]
  },
  {
   "cell_type": "markdown",
   "metadata": {
    "colab_type": "text",
    "id": "hdx-Cb0AMQwM"
   },
   "source": [
    "# [7.2.5] TF-IDF"
   ]
  },
  {
   "cell_type": "code",
   "execution_count": 3,
   "metadata": {
    "collapsed": true
   },
   "outputs": [],
   "source": [
    "%matplotlib inline\n",
    "import warnings\n",
    "warnings.filterwarnings(\"ignore\")\n",
    "from sklearn.neighbors import KNeighborsClassifier\n",
    "from sklearn.metrics import accuracy_score\n",
    "from sklearn import cross_validation\n",
    "from sklearn.metrics import f1_score\n",
    "import scikitplot.metrics as skplt\n",
    "from sklearn.decomposition import TruncatedSVD\n",
    "from sklearn.model_selection import train_test_split"
   ]
  },
  {
   "cell_type": "code",
   "execution_count": 4,
   "metadata": {
    "colab": {},
    "colab_type": "code",
    "id": "P-EUwU9nMQwN"
   },
   "outputs": [
    {
     "name": "stdout",
     "output_type": "stream",
     "text": [
      "the type of count vectorizer  <class 'scipy.sparse.csr.csr_matrix'>\n",
      "the shape of out text TFIDF vectorizer  (54456, 804732)\n",
      "the number of unique words including both unigrams and bigrams  804732\n"
     ]
    }
   ],
   "source": [
    "tf_idf_vect = TfidfVectorizer(ngram_range=(1,2))\n",
    "final_tf_idf = tf_idf_vect.fit_transform(final['CleanedText'].values)\n",
    "print(\"the type of count vectorizer \",type(final_tf_idf))\n",
    "print(\"the shape of out text TFIDF vectorizer \",final_tf_idf.get_shape())\n",
    "print(\"the number of unique words including both unigrams and bigrams \", final_tf_idf.get_shape()[1])"
   ]
  },
  {
   "cell_type": "code",
   "execution_count": 7,
   "metadata": {
    "colab": {},
    "colab_type": "code",
    "id": "lOELCSqEMQwQ"
   },
   "outputs": [
    {
     "name": "stdout",
     "output_type": "stream",
     "text": [
      "some sample features(unique words in the corpus) ['call flour', 'call flower', 'call folk', 'call food', 'call formula', 'call fraud', 'call free', 'call french', 'call fresh', 'call friend']\n"
     ]
    }
   ],
   "source": [
    "features = tf_idf_vect.get_feature_names()\n",
    "print(\"some sample features(unique words in the corpus)\",features[100000:100010])"
   ]
  },
  {
   "cell_type": "code",
   "execution_count": 8,
   "metadata": {
    "colab": {},
    "colab_type": "code",
    "id": "aRjaZzGdMQwT"
   },
   "outputs": [
    {
     "data": {
      "text/plain": [
       "(54456, 804732)"
      ]
     },
     "execution_count": 8,
     "metadata": {},
     "output_type": "execute_result"
    }
   ],
   "source": [
    "# source: https://buhrmann.github.io/tfidf-analysis.html\n",
    "def top_tfidf_feats(row, features, top_n=25):\n",
    "    ''' Get top n tfidf values in row and return them with their corresponding feature names.'''\n",
    "    topn_ids = np.argsort(row)[::-1][:top_n]\n",
    "    top_feats = [(features[i], row[i]) for i in topn_ids]\n",
    "    df = pd.DataFrame(top_feats)\n",
    "    df.columns = ['feature', 'tfidf']\n",
    "    return df\n",
    "\n",
    "top_tfidf = top_tfidf_feats(final_tf_idf[1,:].toarray()[0],features,25)\n",
    "final_tf_idf.shape"
   ]
  },
  {
   "cell_type": "code",
   "execution_count": 5,
   "metadata": {
    "collapsed": true
   },
   "outputs": [],
   "source": [
    "x_train, x_test, y_train, y_test = train_test_split(final_tf_idf, final['Score'], test_size=0.2)\n",
    "x_train,x_cv,y_train,y_cv = train_test_split(x_train,y_train,test_size=0.2)"
   ]
  },
  {
   "cell_type": "code",
   "execution_count": 11,
   "metadata": {},
   "outputs": [
    {
     "name": "stdout",
     "output_type": "stream",
     "text": [
      "2 accuracy 0.7710317915758063\n",
      "4 accuracy 0.8429932285091243\n",
      "6 accuracy 0.8597497991506944\n",
      "8 accuracy 0.8628486170090669\n",
      "10 accuracy 0.8638815562951911\n",
      "12 accuracy 0.8646849535177321\n",
      "14 accuracy 0.8662917479628142\n",
      "16 accuracy 0.8649144955813153\n"
     ]
    },
    {
     "data": {
      "image/png": "[encoded data removed]",
      "text/plain": [
       "<Figure size 432x288 with 1 Axes>"
      ]
     },
     "metadata": {},
     "output_type": "display_data"
    }
   ],
   "source": [
    "k = []\n",
    "acc = []\n",
    "for i in range(2,18,2):\n",
    "    knn = KNeighborsClassifier(i)\n",
    "    knn.fit(x_train,y_train)\n",
    "    prediction = knn.predict(x_cv)\n",
    "    accuracy = accuracy_score(y_cv,prediction)\n",
    "    print(i,\"accuracy\",accuracy)\n",
    "    k.append(i)\n",
    "    acc.append(accuracy)\n",
    "plt.plot(k,acc)\n",
    "plt.xlabel(\"k\")\n",
    "plt.ylabel(\"accuracy\")\n",
    "plt.show()"
   ]
  },
  {
   "cell_type": "markdown",
   "metadata": {},
   "source": [
    "-> from the above graph we can see that we are getting the highest accuracy at k =14\n",
    "-> so we will use k = 14 in our model\n",
    "# Accuracy using the training data"
   ]
  },
  {
   "cell_type": "code",
   "execution_count": 12,
   "metadata": {},
   "outputs": [
    {
     "name": "stdout",
     "output_type": "stream",
     "text": [
      "accuracy score : 0.870448480674873\n",
      "macro f1 score : 0.6589818736683539\n",
      "micro f1 scoore : 0.8704484806748731\n",
      "hamming loss : 0.12955151932512696\n",
      "Precision recall report :\n",
      "               precision    recall  f1-score   support\n",
      "\n",
      "           0       0.84      0.25      0.39      5690\n",
      "           1       0.87      0.99      0.93     29161\n",
      "\n",
      "   micro avg       0.87      0.87      0.87     34851\n",
      "   macro avg       0.86      0.62      0.66     34851\n",
      "weighted avg       0.87      0.87      0.84     34851\n",
      "\n"
     ]
    },
    {
     "data": {
      "image/png": "[encoded data removed]",
      "text/plain": [
       "<Figure size 432x288 with 2 Axes>"
      ]
     },
     "metadata": {},
     "output_type": "display_data"
    }
   ],
   "source": [
    "knn = KNeighborsClassifier(n_neighbors = 14)\n",
    "knn.fit(x_train,y_train)\n",
    "prediction = knn.predict(x_train)\n",
    "print(\"accuracy score :\",accuracy_score(y_train,prediction))\n",
    "skplt.plot_confusion_matrix(y_train,prediction)\n",
    "print(\"macro f1 score :\",metrics.f1_score(y_train, prediction, average = 'macro'))\n",
    "print(\"micro f1 scoore :\",metrics.f1_score(y_train, prediction, average = 'micro'))\n",
    "print(\"hamming loss :\",metrics.hamming_loss(y_train,prediction))\n",
    "print(\"Precision recall report :\\n\",metrics.classification_report(y_train, prediction))"
   ]
  },
  {
   "cell_type": "markdown",
   "metadata": {},
   "source": [
    "-> We are getting a accuracy of 87% on the traiining data.\n",
    "# accuracy of the model on the unseen data i.e. test data"
   ]
  },
  {
   "cell_type": "code",
   "execution_count": 13,
   "metadata": {},
   "outputs": [
    {
     "name": "stdout",
     "output_type": "stream",
     "text": [
      "accuracy score : 0.8548475945648182\n",
      "macro f1 score : 0.6111013360912665\n",
      "micro f1 scoore : 0.8548475945648182\n",
      "hamming loss : 0.1451524054351818\n",
      "Precision recall report :\n",
      "               precision    recall  f1-score   support\n",
      "\n",
      "           0       0.79      0.19      0.30      1831\n",
      "           1       0.86      0.99      0.92      9061\n",
      "\n",
      "   micro avg       0.85      0.85      0.85     10892\n",
      "   macro avg       0.82      0.59      0.61     10892\n",
      "weighted avg       0.85      0.85      0.82     10892\n",
      "\n"
     ]
    },
    {
     "data": {
      "image/png": "[encoded data removed]",
      "text/plain": [
       "<Figure size 432x288 with 2 Axes>"
      ]
     },
     "metadata": {},
     "output_type": "display_data"
    }
   ],
   "source": [
    "# as we have trained our model on train data so need not to again train it\n",
    "prediction = knn.predict(x_test)\n",
    "print(\"accuracy score :\",accuracy_score(y_test,prediction))\n",
    "skplt.plot_confusion_matrix(y_test,prediction)\n",
    "print(\"macro f1 score :\",metrics.f1_score(y_test, prediction, average = 'macro'))\n",
    "print(\"micro f1 scoore :\",metrics.f1_score(y_test, prediction, average = 'micro'))\n",
    "print(\"hamming loss :\",metrics.hamming_loss(y_test,prediction))\n",
    "print(\"Precision recall report :\\n\",metrics.classification_report(y_test, prediction))"
   ]
  },
  {
   "cell_type": "markdown",
   "metadata": {},
   "source": [
    "-> From the above result we can see that our model is giving an accuracy of almost 86% on the unseen data that is fairly good."
   ]
  },
  {
   "cell_type": "markdown",
   "metadata": {},
   "source": [
    "# KNN on tfidf using the kdtree k = 14"
   ]
  },
  {
   "cell_type": "code",
   "execution_count": 6,
   "metadata": {
    "colab": {},
    "colab_type": "code",
    "id": "ayhSkBo8MQwV"
   },
   "outputs": [
    {
     "name": "stdout",
     "output_type": "stream",
     "text": [
      "accuracy score using kd tree 0.824825560044069\n",
      "macro f1 score : 0.46710098762271435\n",
      "micro f1 scoore : 0.824825560044069\n",
      "hamming loss : 0.17517443995593096\n",
      "Precision recall report :\n",
      "               precision    recall  f1-score   support\n",
      "\n",
      "           0       0.29      0.02      0.03      1865\n",
      "           1       0.83      0.99      0.90      9027\n",
      "\n",
      "   micro avg       0.82      0.82      0.82     10892\n",
      "   macro avg       0.56      0.50      0.47     10892\n",
      "weighted avg       0.74      0.82      0.75     10892\n",
      "\n"
     ]
    },
    {
     "data": {
      "image/png": "[encoded data removed]",
      "text/plain": [
       "<Figure size 432x288 with 2 Axes>"
      ]
     },
     "metadata": {},
     "output_type": "display_data"
    }
   ],
   "source": [
    "#for n_component > 2 model is giving memory as my system is having only 4GB of RAM\n",
    "# we can use n_component> 2 if we have higher RAM\n",
    "tsvd = TruncatedSVD(n_components=2)\n",
    "x = tsvd.fit_transform(x_train) # conversion into dence matrix\n",
    "xt = tsvd.fit_transform(x_test)\n",
    "knn = KNeighborsClassifier(n_neighbors = 14,algorithm ='kd_tree')\n",
    "knn.fit(x,y_train)\n",
    "prediction = knn.predict(xt)\n",
    "print(\"accuracy score using kd tree\",accuracy_score(y_test,prediction))\n",
    "skplt.plot_confusion_matrix(y_test,prediction)\n",
    "print(\"macro f1 score :\",metrics.f1_score(y_test, prediction, average = 'macro'))\n",
    "print(\"micro f1 scoore :\",metrics.f1_score(y_test, prediction, average = 'micro'))\n",
    "print(\"hamming loss :\",metrics.hamming_loss(y_test,prediction))\n",
    "print(\"Precision recall report :\\n\",metrics.classification_report(y_test, prediction))"
   ]
  },
  {
   "cell_type": "markdown",
   "metadata": {
    "colab_type": "text",
    "id": "FvLejEvqMQwY"
   },
   "source": [
    "# [7.2.6] Word2Vec"
   ]
  },
  {
   "cell_type": "code",
   "execution_count": 0,
   "metadata": {
    "colab": {},
    "colab_type": "code",
    "collapsed": true,
    "id": "3bh2VdnDMQwa",
    "scrolled": true
   },
   "outputs": [],
   "source": [
    "# Using Google News Word2Vectors\n",
    "\n",
    "# in this project we are using a pretrained model by google\n",
    "# its 3.3G file, once you load this into your memory \n",
    "# it occupies ~9Gb, so please do this step only if you have >12G of ram\n",
    "# we will provide a pickle file wich contains a dict , \n",
    "# and it contains all our courpus words as keys and  model[word] as values\n",
    "# To use this code-snippet, download \"GoogleNews-vectors-negative300.bin\" \n",
    "# from https://drive.google.com/file/d/0B7XkCwpI5KDYNlNUTTlSS21pQmM/edit\n",
    "# it's 1.9GB in size.\n",
    "\n",
    "\n",
    "# http://kavita-ganesan.com/gensim-word2vec-tutorial-starter-code/#.W17SRFAzZPY\n",
    "# you can comment this whole cell\n",
    "# or change these varible according to your need\n",
    "is_your_ram_gt_16g=False\n",
    "want_to_read_sub_set_of_google_w2v = True\n",
    "want_to_read_whole_google_w2v = True\n",
    "if not is_your_ram_gt_16g:\n",
    "    if want_to_read_sub_set_of_google_w2v and  os.path.isfile('google_w2v_for_amazon.pkl'):\n",
    "        with open('google_w2v_for_amazon.pkl', 'rb') as f:\n",
    "            # model is dict object, you can directly access any word vector using model[word]\n",
    "            model = pickle.load(f)\n",
    "else:\n",
    "    if want_to_read_whole_google_w2v and os.path.isfile('GoogleNews-vectors-negative300.bin'):\n",
    "        model = KeyedVectors.load_word2vec_format('GoogleNews-vectors-negative300.bin', binary=True)\n",
    "\n",
    "# print(\"the vector representation of word 'computer'\",model.wv['computer'])\n",
    "# print(\"the similarity between the words 'woman' and 'man'\",model.wv.similarity('woman', 'man'))\n",
    "# print(\"the most similar words to the word 'woman'\",model.wv.most_similar('woman'))\n",
    "# this will raise an error\n",
    "# model.wv.most_similar('tasti')  # \"tasti\" is the stemmed word for tasty, tastful"
   ]
  },
  {
   "cell_type": "code",
   "execution_count": 45,
   "metadata": {
    "colab": {},
    "colab_type": "code",
    "id": "xri0AfSJMQwe"
   },
   "outputs": [],
   "source": [
    "# Train your own Word2Vec model using your own text corpus\n",
    "i=0\n",
    "list_of_sent=[]\n",
    "for sent in final['CleanedText'].values:\n",
    "    list_of_sent.append(sent.split())"
   ]
  },
  {
   "cell_type": "markdown",
   "metadata": {
    "colab_type": "text",
    "id": "4I2C8IDr9FBb"
   },
   "source": []
  },
  {
   "cell_type": "markdown",
   "metadata": {
    "colab_type": "text",
    "id": "hZE85jgq9Es3"
   },
   "source": []
  },
  {
   "cell_type": "code",
   "execution_count": 46,
   "metadata": {
    "colab": {},
    "colab_type": "code",
    "id": "eRUcB7DlMQwi"
   },
   "outputs": [
    {
     "name": "stdout",
     "output_type": "stream",
     "text": [
      "dog love saw pet store tag attach regard made china satisfi safe\n",
      "*****************************************************************\n",
      "['dog', 'love', 'saw', 'pet', 'store', 'tag', 'attach', 'regard', 'made', 'china', 'satisfi', 'safe']\n"
     ]
    }
   ],
   "source": [
    "print(final['CleanedText'].values[0])\n",
    "print(\"*****************************************************************\")\n",
    "print(list_of_sent[0])"
   ]
  },
  {
   "cell_type": "code",
   "execution_count": 47,
   "metadata": {
    "colab": {},
    "colab_type": "code",
    "id": "xA_ZepwsMQwl"
   },
   "outputs": [],
   "source": [
    "# min_count = 5 considers only words that occured atleast 5 times\n",
    "w2v_model=Word2Vec(list_of_sent,min_count=5,size=50, workers=4)"
   ]
  },
  {
   "cell_type": "code",
   "execution_count": 48,
   "metadata": {
    "colab": {},
    "colab_type": "code",
    "id": "as5kes83MQwn"
   },
   "outputs": [
    {
     "name": "stdout",
     "output_type": "stream",
     "text": [
      "number of words that occured minimum 5 times  9400\n",
      "sample words  ['dog', 'love', 'saw', 'pet', 'store', 'tag', 'attach', 'regard', 'made', 'china', 'satisfi', 'safe', 'chicken', 'product', 'wont', 'buy', 'anymor', 'hard', 'find', 'usa', 'one', 'isnt', 'bad', 'good', 'take', 'chanc', 'till', 'know', 'go', 'import', 'avail', 'www', 'amazon', 'com', 'victor', 'trap', 'unreal', 'cours', 'total', 'fli', 'pretti', 'stinki', 'right', 'nearbi', 'use', 'bait', 'season', 'cant', 'beat', 'great']\n"
     ]
    }
   ],
   "source": [
    "w2v_words = list(w2v_model.wv.vocab)\n",
    "print(\"number of words that occured minimum 5 times \",len(w2v_words))\n",
    "print(\"sample words \", w2v_words[0:50])"
   ]
  },
  {
   "cell_type": "code",
   "execution_count": 49,
   "metadata": {
    "colab": {},
    "colab_type": "code",
    "id": "X1EVyAnEMQwo"
   },
   "outputs": [
    {
     "data": {
      "text/plain": [
       "[('satisfi', 0.7783984541893005),\n",
       " ('yummi', 0.7621326446533203),\n",
       " ('delici', 0.7506585121154785),\n",
       " ('terrif', 0.692543089389801),\n",
       " ('hearti', 0.6851441860198975),\n",
       " ('good', 0.6549248695373535),\n",
       " ('crisp', 0.6514237523078918),\n",
       " ('nutriti', 0.6437604427337646),\n",
       " ('crispi', 0.633855402469635),\n",
       " ('crunch', 0.6213269233703613)]"
      ]
     },
     "execution_count": 49,
     "metadata": {},
     "output_type": "execute_result"
    }
   ],
   "source": [
    "w2v_model.wv.most_similar('tasti')"
   ]
  },
  {
   "cell_type": "code",
   "execution_count": 50,
   "metadata": {
    "colab": {},
    "colab_type": "code",
    "id": "WeKWZN4eMQws"
   },
   "outputs": [
    {
     "data": {
      "text/plain": [
       "[('dislik', 0.7044693231582642),\n",
       " ('appeal', 0.7019355297088623),\n",
       " ('prefer', 0.6757634282112122),\n",
       " ('weird', 0.6495038270950317),\n",
       " ('okay', 0.6194660663604736),\n",
       " ('think', 0.6158872842788696),\n",
       " ('hate', 0.61036217212677),\n",
       " ('good', 0.5908195376396179),\n",
       " ('gross', 0.5828086733818054),\n",
       " ('enjoy', 0.5772559642791748)]"
      ]
     },
     "execution_count": 50,
     "metadata": {},
     "output_type": "execute_result"
    }
   ],
   "source": [
    "w2v_model.wv.most_similar('like')"
   ]
  },
  {
   "cell_type": "markdown",
   "metadata": {
    "colab_type": "text",
    "id": "V1eebHVHMQwv"
   },
   "source": [
    "# [7.2.7] Avg W2V, TFIDF-W2V"
   ]
  },
  {
   "cell_type": "code",
   "execution_count": 51,
   "metadata": {
    "colab": {},
    "colab_type": "code",
    "id": "TMrT0BciMQww"
   },
   "outputs": [
    {
     "name": "stderr",
     "output_type": "stream",
     "text": [
      "100%|██████████| 54456/54456 [04:55<00:00, 184.22it/s]"
     ]
    },
    {
     "name": "stdout",
     "output_type": "stream",
     "text": [
      "54456\n",
      "50\n"
     ]
    },
    {
     "name": "stderr",
     "output_type": "stream",
     "text": [
      "\n"
     ]
    }
   ],
   "source": [
    "# average Word2Vec\n",
    "# compute average word2vec for each review.\n",
    "sent_vectors = []; # the avg-w2v for each sentence/review is stored in this list\n",
    "for sent in tqdm(list_of_sent): # for each review/sentence\n",
    "    sent_vec = np.zeros(50) # as word vectors are of zero length\n",
    "    cnt_words =0; # num of words with a valid vector in the sentence/review\n",
    "    for word in sent: # for each word in a review/sentence\n",
    "        if word in w2v_words:\n",
    "            vec = w2v_model.wv[word]\n",
    "            sent_vec += vec\n",
    "            cnt_words += 1\n",
    "    if cnt_words != 0:\n",
    "        sent_vec /= cnt_words\n",
    "    sent_vectors.append(sent_vec)\n",
    "print(len(sent_vectors))\n",
    "print(len(sent_vectors[0]))"
   ]
  },
  {
   "cell_type": "markdown",
   "metadata": {
    "colab": {},
    "colab_type": "code",
    "collapsed": true,
    "id": "EM2v872OMQwy"
   },
   "source": [
    "# devide the data in train, test, and cross_validation"
   ]
  },
  {
   "cell_type": "code",
   "execution_count": 14,
   "metadata": {},
   "outputs": [
    {
     "name": "stdout",
     "output_type": "stream",
     "text": [
      "2  ------>  0.7971995868242856\n",
      "4  ------>  0.8569952943876965\n",
      "6  ------>  0.8745552622518077\n",
      "8  ------>  0.8778836221737634\n",
      "10  ------>  0.8777688511419718\n",
      "12  ------>  0.8786870193963043\n",
      "14  ------>  0.8806381269367611\n",
      "16  ------>  0.8775393090783886\n"
     ]
    },
    {
     "data": {
      "image/png": "[encoded data removed]",
      "text/plain": [
       "<Figure size 432x288 with 1 Axes>"
      ]
     },
     "metadata": {},
     "output_type": "display_data"
    }
   ],
   "source": [
    "#split the data into train and test and cross validation\n",
    "# test - 20%\n",
    "# cv = 20%\n",
    "# train = 60%\n",
    "x_train, x_test, y_train, y_test = train_test_split(sent_vectors, final['Score'], test_size=0.2)\n",
    "x_train,x_cv,y_train,y_cv = train_test_split(x_train,y_train,test_size=0.2)\n",
    "acc = []\n",
    "k = []\n",
    "for i in range(2,18,2):\n",
    "    knn =KNeighborsClassifier(n_neighbors=i)\n",
    "    knn.fit(x_train,y_train)\n",
    "    prediction = knn.predict(x_cv)\n",
    "    accuracy = accuracy_score(y_cv,prediction)\n",
    "    print(i,\" ------> \",accuracy)\n",
    "    k.append(i)\n",
    "    acc.append(accuracy)\n",
    "plt.plot(k,acc)\n",
    "plt.xlabel(\"k\")\n",
    "plt.ylabel(\"accuracy\")\n",
    "plt.show()"
   ]
  },
  {
   "cell_type": "markdown",
   "metadata": {},
   "source": [
    "-> We are getting a accuracy of 88% for  k = 14 so we will train our model final model for k =14"
   ]
  },
  {
   "cell_type": "markdown",
   "metadata": {},
   "source": [
    "# KNN using brute force using avg-w2v over unseen data"
   ]
  },
  {
   "cell_type": "code",
   "execution_count": 15,
   "metadata": {},
   "outputs": [
    {
     "name": "stdout",
     "output_type": "stream",
     "text": [
      "accuracy score : 0.8726588321704003\n",
      "macro f1 score : 0.7125450025966118\n",
      "micro f1 scoore : 0.8726588321704003\n",
      "hamming loss : 0.1273411678295997\n",
      "Precision recall report :\n",
      "               precision    recall  f1-score   support\n",
      "\n",
      "           0       0.73      0.38      0.50      1818\n",
      "           1       0.89      0.97      0.93      9074\n",
      "\n",
      "   micro avg       0.87      0.87      0.87     10892\n",
      "   macro avg       0.81      0.68      0.71     10892\n",
      "weighted avg       0.86      0.87      0.86     10892\n",
      "\n"
     ]
    },
    {
     "data": {
      "image/png": "[encoded data removed]",
      "text/plain": [
       "<Figure size 432x288 with 2 Axes>"
      ]
     },
     "metadata": {},
     "output_type": "display_data"
    }
   ],
   "source": [
    "knn = KNeighborsClassifier(n_neighbors = 14)\n",
    "knn.fit(x_train,y_train)\n",
    "prediction = knn.predict(x_test)\n",
    "print(\"accuracy score :\",accuracy_score(y_test,prediction))\n",
    "skplt.plot_confusion_matrix(y_test,prediction)\n",
    "print(\"macro f1 score :\",metrics.f1_score(y_test, prediction, average = 'macro'))\n",
    "print(\"micro f1 scoore :\",metrics.f1_score(y_test, prediction, average = 'micro'))\n",
    "print(\"hamming loss :\",metrics.hamming_loss(y_test,prediction))\n",
    "print(\"Precision recall report :\\n\",metrics.classification_report(y_test, prediction))"
   ]
  },
  {
   "cell_type": "markdown",
   "metadata": {},
   "source": [
    "-> So our model is giving an accuracy_score of 87.26% using brute force method of k = 14 that is fairly good.\n",
    "# KNN over avg-w2v using kd_tree"
   ]
  },
  {
   "cell_type": "code",
   "execution_count": 20,
   "metadata": {},
   "outputs": [
    {
     "name": "stdout",
     "output_type": "stream",
     "text": [
      "accuracy score using kd tree 0.793334557473375\n",
      "macro f1 score : 0.4462929206460728\n",
      "micro f1 scoore : 0.7933345574733749\n",
      "hamming loss : 0.20666544252662505\n",
      "Precision recall report :\n",
      "               precision    recall  f1-score   support\n",
      "\n",
      "           0       0.02      0.00      0.01      1818\n",
      "           1       0.83      0.95      0.88      9074\n",
      "\n",
      "   micro avg       0.79      0.79      0.79     10892\n",
      "   macro avg       0.42      0.48      0.45     10892\n",
      "weighted avg       0.69      0.79      0.74     10892\n",
      "\n"
     ]
    },
    {
     "data": {
      "image/png": "[encoded data removed]",
      "text/plain": [
       "<Figure size 432x288 with 2 Axes>"
      ]
     },
     "metadata": {},
     "output_type": "display_data"
    }
   ],
   "source": [
    "#as RAM of my system is less so i can not run this code for higher value of the n_component\n",
    "tsvd = TruncatedSVD(n_components=20)\n",
    "x = tsvd.fit_transform(x_train) # conversion into dence matrix\n",
    "xt = tsvd.fit_transform(x_test)\n",
    "knn = KNeighborsClassifier(n_neighbors = 14,algorithm ='kd_tree')\n",
    "knn.fit(x,y_train)\n",
    "prediction = knn.predict(xt)\n",
    "print(\"accuracy score using kd tree\",accuracy_score(y_test,prediction))\n",
    "skplt.plot_confusion_matrix(y_test,prediction)\n",
    "print(\"macro f1 score :\",metrics.f1_score(y_test, prediction, average = 'macro'))\n",
    "print(\"micro f1 scoore :\",metrics.f1_score(y_test, prediction, average = 'micro'))\n",
    "print(\"hamming loss :\",metrics.hamming_loss(y_test,prediction))\n",
    "print(\"Precision recall report :\\n\",metrics.classification_report(y_test, prediction))"
   ]
  },
  {
   "cell_type": "code",
   "execution_count": 52,
   "metadata": {
    "collapsed": true
   },
   "outputs": [],
   "source": [
    "# S = [\"abc def pqr\", \"def def def abc\", \"pqr pqr def\"]\n",
    "model = TfidfVectorizer()\n",
    "tf_idf_matrix = model.fit_transform(final['CleanedText'].values)\n",
    "# we are converting a dictionary with word as a key, and the idf as a value\n",
    "dictionary = dict(zip(model.get_feature_names(), list(model.idf_)))"
   ]
  },
  {
   "cell_type": "markdown",
   "metadata": {},
   "source": [
    "# TF-IDF weighted w2v"
   ]
  },
  {
   "cell_type": "code",
   "execution_count": 53,
   "metadata": {
    "colab": {},
    "colab_type": "code",
    "id": "Z0Kg_dbxMQw0",
    "scrolled": true
   },
   "outputs": [
    {
     "name": "stderr",
     "output_type": "stream",
     "text": [
      "100%|██████████| 54456/54456 [04:35<00:00, 197.42it/s]\n"
     ]
    }
   ],
   "source": [
    "# TF-IDF weighted Word2Vec\n",
    "#tfidf_feat = model.get_feature_names() # tfidf words/col-names\n",
    "# final_tf_idf is the sparse matrix with row= sentence, col=word and cell_val = tfidf\n",
    "\n",
    "tfidf_sent_vectors = []; # the tfidf-w2v for each sentence/review is stored in this list\n",
    "row=0;\n",
    "for sent in tqdm(list_of_sent): # for each review/sentence \n",
    "    sent_vec = np.zeros(50) # as word vectors are of zero length\n",
    "    weight_sum =0; # num of words with a valid vector in the sentence/review\n",
    "    for word in sent: # for each word in a review/sentence\n",
    "        if word in w2v_words:\n",
    "            vec = w2v_model.wv[word]\n",
    "#             tf_idf = tf_idf_matrix[row, tfidf_feat.index(word)]\n",
    "            # to reduce the computation we are \n",
    "            # dictionary[word] = idf value of word in whole courpus\n",
    "            # sent.count(word) = tf valeus of word in this review\n",
    "            tf_idf = dictionary[word]*(sent.count(word)/len(sent))\n",
    "            sent_vec += (vec * tf_idf)\n",
    "            weight_sum += tf_idf\n",
    "    if weight_sum != 0:\n",
    "        sent_vec /= weight_sum\n",
    "    tfidf_sent_vectors.append(sent_vec)\n",
    "    row += 1"
   ]
  },
  {
   "cell_type": "markdown",
   "metadata": {},
   "source": [
    "# Devide the data into train,test, cross_validation"
   ]
  },
  {
   "cell_type": "code",
   "execution_count": 54,
   "metadata": {},
   "outputs": [
    {
     "name": "stdout",
     "output_type": "stream",
     "text": [
      "2  ------>  0.7681625157810169\n",
      "4  ------>  0.834959256283714\n",
      "6  ------>  0.8527487662114083\n",
      "8  ------>  0.8591759439917365\n",
      "10  ------>  0.861471364627568\n",
      "12  ------>  0.8623895328819006\n",
      "14  ------>  0.8605531963732354\n",
      "16  ------>  0.8612418225639848\n"
     ]
    },
    {
     "data": {
      "image/png": "[encoded data removed]",
      "text/plain": [
       "<Figure size 432x288 with 1 Axes>"
      ]
     },
     "metadata": {},
     "output_type": "display_data"
    }
   ],
   "source": [
    "#split the data into train and test and cross validation\n",
    "# test - 20%\n",
    "# cv = 20%\n",
    "# train = 60%\n",
    "x_train, x_test, y_train, y_test = train_test_split(tfidf_sent_vectors, final['Score'], test_size=0.2)\n",
    "x_train,x_cv,y_train,y_cv = train_test_split(x_train,y_train,test_size=0.2)\n",
    "acc = []\n",
    "k = []\n",
    "# cross validation to find the best k\n",
    "for i in range(2,18,2):\n",
    "    knn =KNeighborsClassifier(n_neighbors=i)\n",
    "    knn.fit(x_train,y_train)\n",
    "    prediction = knn.predict(x_cv)\n",
    "    accuracy = accuracy_score(y_cv,prediction)\n",
    "    print(i,\" ------> \",accuracy)\n",
    "    k.append(i)\n",
    "    acc.append(accuracy)\n",
    "plt.plot(k,acc)\n",
    "plt.xlabel(\"k\")\n",
    "plt.ylabel(\"accuracy\")\n",
    "plt.show()"
   ]
  },
  {
   "cell_type": "markdown",
   "metadata": {},
   "source": [
    "-> As we can see that at k = 14 we are getting maximum accuracy so we will use k=14 to train our model"
   ]
  },
  {
   "cell_type": "markdown",
   "metadata": {},
   "source": [
    "# KNN over tfidf w2v using brute force"
   ]
  },
  {
   "cell_type": "code",
   "execution_count": 56,
   "metadata": {},
   "outputs": [
    {
     "name": "stdout",
     "output_type": "stream",
     "text": [
      "accuracy score : 0.8668747704737422\n",
      "macro f1 score : 0.6839921222730029\n",
      "micro f1 scoore : 0.8668747704737422\n",
      "hamming loss : 0.1331252295262578\n",
      "Precision recall report :\n",
      "               precision    recall  f1-score   support\n",
      "\n",
      "           0       0.65      0.34      0.44      1721\n",
      "           1       0.89      0.97      0.92      9171\n",
      "\n",
      "   micro avg       0.87      0.87      0.87     10892\n",
      "   macro avg       0.77      0.65      0.68     10892\n",
      "weighted avg       0.85      0.87      0.85     10892\n",
      "\n"
     ]
    },
    {
     "data": {
      "image/png": "[encoded data removed]",
      "text/plain": [
       "<Figure size 432x288 with 2 Axes>"
      ]
     },
     "metadata": {},
     "output_type": "display_data"
    }
   ],
   "source": [
    "knn = KNeighborsClassifier(n_neighbors = 12)\n",
    "knn.fit(x_train,y_train)\n",
    "prediction = knn.predict(x_test)\n",
    "print(\"accuracy score :\",accuracy_score(y_test,prediction))\n",
    "skplt.plot_confusion_matrix(y_test,prediction)\n",
    "print(\"macro f1 score :\",metrics.f1_score(y_test, prediction, average = 'macro'))\n",
    "print(\"micro f1 scoore :\",metrics.f1_score(y_test, prediction, average = 'micro'))\n",
    "print(\"hamming loss :\",metrics.hamming_loss(y_test,prediction))\n",
    "print(\"Precision recall report :\\n\",metrics.classification_report(y_test, prediction))"
   ]
  },
  {
   "cell_type": "markdown",
   "metadata": {},
   "source": [
    "-> In the above model we are getting an accuracy of almost 87%. Rest of the parameter are also fairly good.\n",
    "# KNN over tfidf w2v using kd_tree"
   ]
  },
  {
   "cell_type": "code",
   "execution_count": 57,
   "metadata": {},
   "outputs": [
    {
     "name": "stdout",
     "output_type": "stream",
     "text": [
      "accuracy score using kd tree 0.8410760190965847\n",
      "macro f1 score : 0.5797579404388876\n",
      "micro f1 scoore : 0.8410760190965847\n",
      "hamming loss : 0.15892398090341536\n",
      "Precision recall report :\n",
      "               precision    recall  f1-score   support\n",
      "\n",
      "           0       0.49      0.17      0.25      1721\n",
      "           1       0.86      0.97      0.91      9171\n",
      "\n",
      "   micro avg       0.84      0.84      0.84     10892\n",
      "   macro avg       0.68      0.57      0.58     10892\n",
      "weighted avg       0.80      0.84      0.81     10892\n",
      "\n"
     ]
    },
    {
     "data": {
      "image/png": "[encoded data removed]",
      "text/plain": [
       "<Figure size 432x288 with 2 Axes>"
      ]
     },
     "metadata": {},
     "output_type": "display_data"
    }
   ],
   "source": [
    "tsvd = TruncatedSVD(n_components=10)\n",
    "x = tsvd.fit_transform(x_train) # conversion into dence matrix\n",
    "xt = tsvd.fit_transform(x_test)\n",
    "knn = KNeighborsClassifier(n_neighbors = 12,algorithm ='kd_tree')\n",
    "knn.fit(x,y_train)\n",
    "prediction = knn.predict(xt)\n",
    "print(\"accuracy score using kd tree\",accuracy_score(y_test,prediction))\n",
    "skplt.plot_confusion_matrix(y_test,prediction)\n",
    "print(\"macro f1 score :\",metrics.f1_score(y_test, prediction, average = 'macro'))\n",
    "print(\"micro f1 scoore :\",metrics.f1_score(y_test, prediction, average = 'micro'))\n",
    "print(\"hamming loss :\",metrics.hamming_loss(y_test,prediction))\n",
    "print(\"Precision recall report :\\n\",metrics.classification_report(y_test, prediction))"
   ]
  },
  {
   "cell_type": "markdown",
   "metadata": {
    "collapsed": true
   },
   "source": [
    "Conclusion-: \n",
    "1. We execute our knn over BOW, tfidf, avg w2v, tfidf w2v.\n",
    "2. For each model we found out the best k using cross validation, as k is hypermeter in KNN.\n",
    "3. In each model we devide the data in train,test,cv in 60:20:20 ratio\n",
    "4. Among all the model best accuracy was given by tfidf w2v using brute force for k = 12, various parameter for it are given blow -:\n",
    "accuracy score : 0.8668747704737422\n",
    "macro f1 score : 0.6839921222730029\n",
    "micro f1 scoore : 0.8668747704737422\n",
    "hamming loss : 0.1331252295262578\n"
   ]
  }
 ],
 "metadata": {
  "colab": {
   "collapsed_sections": [
    "0Zhvc5AMMQwD"
   ],
   "name": "Amazon Fine Food Reviews Analysis.ipynb",
   "provenance": [],
   "version": "0.3.2"
  },
  "kernelspec": {
   "display_name": "Python 3",
   "language": "python",
   "name": "python3"
  },
  "language_info": {
   "codemirror_mode": {
    "name": "ipython",
    "version": 3
   },
   "file_extension": ".py",
   "mimetype": "text/x-python",
   "name": "python",
   "nbconvert_exporter": "python",
   "pygments_lexer": "ipython3",
   "version": "3.6.6"
  }
 },
 "nbformat": 4,
 "nbformat_minor": 1
}
